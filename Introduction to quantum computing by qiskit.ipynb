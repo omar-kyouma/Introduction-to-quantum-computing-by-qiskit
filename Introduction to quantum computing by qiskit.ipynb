{
 "cells": [
  {
   "cell_type": "code",
   "execution_count": 2,
   "id": "a5ff80b9-a66b-4908-981d-1e7134a8b412",
   "metadata": {},
   "outputs": [],
   "source": [
    "# Importing standard Qiskit libraries\n",
    "from qiskit import QuantumCircuit, transpile\n",
    "from qiskit.tools.jupyter import *\n",
    "from qiskit.visualization import *\n",
    "from ibm_quantum_widgets import *\n",
    "from qiskit_aer import AerSimulator\n",
    "\n",
    "# qiskit-ibmq-provider has been deprecated.\n",
    "# Please see the Migration Guides in https://ibm.biz/provider_migration_guide for more detail.\n",
    "from qiskit_ibm_runtime import QiskitRuntimeService, Sampler, Estimator, Session, Options\n",
    "\n",
    "# Loading your IBM Quantum account(s)\n",
    "service = QiskitRuntimeService(channel=\"ibm_quantum\")\n",
    "\n",
    "# Invoke a primitive inside a session. For more details see https://qiskit.org/documentation/partners/qiskit_ibm_runtime/tutorials.html\n",
    "# with Session(backend=service.backend(\"ibmq_qasm_simulator\")):\n",
    "#     result = Sampler().run(circuits).result()"
   ]
  },
  {
   "cell_type": "code",
   "execution_count": null,
   "id": "2a8de3c3-1084-4fab-972b-e5d22b37393b",
   "metadata": {},
   "outputs": [],
   "source": [
    "# Import the necessary libraries\n",
    "from qiskit import QuantumCircuit, execute, Aer\n"
   ]
  },
  {
   "cell_type": "code",
   "execution_count": null,
   "id": "305131e0-713f-44d8-ad0b-83935f5780dc",
   "metadata": {},
   "outputs": [],
   "source": [
    "# Create a quantum circuit with one qubit\n",
    "circuit = QuantumCircuit(1, 1)\n"
   ]
  },
  {
   "cell_type": "code",
   "execution_count": null,
   "id": "c9d0c595-72fd-426e-aa0d-ace03503b613",
   "metadata": {},
   "outputs": [],
   "source": [
    "\n",
    "# Add a Hadamard gate to the qubit\n",
    "circuit.h(0)\n"
   ]
  },
  {
   "cell_type": "code",
   "execution_count": null,
   "id": "f0be320d-059a-4052-8be7-ef755907ff59",
   "metadata": {},
   "outputs": [],
   "source": [
    "\n",
    "# Measure the qubit\n",
    "circuit.measure(0, 0)\n"
   ]
  },
  {
   "cell_type": "code",
   "execution_count": null,
   "id": "a3b48963-25fa-458b-9c2a-ccdcf183e6d3",
   "metadata": {},
   "outputs": [],
   "source": [
    "\n",
    "# Print the circuit\n",
    "print(circuit)\n",
    "\n"
   ]
  },
  {
   "cell_type": "code",
   "execution_count": null,
   "id": "9cd2a536-3547-4b2d-ba64-5daea2af8b50",
   "metadata": {},
   "outputs": [],
   "source": [
    "# Execute the circuit on a simulator\n",
    "backend = Aer.get_backend('qasm_simulator')\n",
    "job = execute(circuit, backend)\n",
    "result = job.result()\n"
   ]
  },
  {
   "cell_type": "code",
   "execution_count": null,
   "id": "e288a013-5146-41ed-8eb1-e2561b3bf504",
   "metadata": {},
   "outputs": [],
   "source": [
    "# Print the measurement result\n",
    "print(result.get_counts())"
   ]
  }
 ],
 "metadata": {
  "kernelspec": {
   "display_name": "Python 3 (ipykernel)",
   "language": "python",
   "name": "python3"
  },
  "language_info": {
   "codemirror_mode": {
    "name": "ipython",
    "version": 3
   },
   "file_extension": ".py",
   "mimetype": "text/x-python",
   "name": "python",
   "nbconvert_exporter": "python",
   "pygments_lexer": "ipython3",
   "version": "3.10.8"
  },
  "widgets": {
   "application/vnd.jupyter.widget-state+json": {
    "state": {
     "13ca85c68b1a4f6bbe1f0a687f53b914": {
      "model_module": "@jupyter-widgets/controls",
      "model_module_version": "2.0.0",
      "model_name": "ButtonStyleModel",
      "state": {
       "font_family": null,
       "font_size": null,
       "font_style": null,
       "font_variant": null,
       "font_weight": null,
       "text_color": null,
       "text_decoration": null
      }
     },
     "26f5124b5c4e49ec8f3c23a31b0600b7": {
      "model_module": "@jupyter-widgets/base",
      "model_module_version": "2.0.0",
      "model_name": "LayoutModel",
      "state": {
       "width": "190px"
      }
     },
     "2bff40bd84c54b6bb4fc7a065168053e": {
      "model_module": "@jupyter-widgets/controls",
      "model_module_version": "2.0.0",
      "model_name": "HTMLStyleModel",
      "state": {
       "description_width": "",
       "font_size": null,
       "text_color": null
      }
     },
     "3216122a3fc44392be1afa87fc5d54d6": {
      "model_module": "@jupyter-widgets/controls",
      "model_module_version": "2.0.0",
      "model_name": "HTMLStyleModel",
      "state": {
       "description_width": "",
       "font_size": null,
       "text_color": null
      }
     },
     "365941a0d5784a4d8766f404d1cabe04": {
      "model_module": "@jupyter-widgets/base",
      "model_module_version": "2.0.0",
      "model_name": "LayoutModel",
      "state": {
       "width": "70px"
      }
     },
     "46300f39ce18456c8232c4db91681bf6": {
      "model_module": "@jupyter-widgets/base",
      "model_module_version": "2.0.0",
      "model_name": "LayoutModel",
      "state": {
       "grid_area": "right",
       "padding": "0px 0px 0px 0px",
       "width": "70px"
      }
     },
     "4cd95f10ad6f4d0fbbca62b228000dcf": {
      "model_module": "@jupyter-widgets/base",
      "model_module_version": "2.0.0",
      "model_name": "LayoutModel",
      "state": {
       "width": "95px"
      }
     },
     "4f459d89e271451d9de945a1e4e3f842": {
      "model_module": "@jupyter-widgets/controls",
      "model_module_version": "2.0.0",
      "model_name": "HTMLModel",
      "state": {
       "layout": "IPY_MODEL_4cd95f10ad6f4d0fbbca62b228000dcf",
       "style": "IPY_MODEL_c09472a5c0634ec79f65a4b5963f0338",
       "value": "<h5>Status</h5>"
      }
     },
     "509274aa6a2c4d71b45ba4feac0d512b": {
      "model_module": "@jupyter-widgets/controls",
      "model_module_version": "2.0.0",
      "model_name": "ButtonModel",
      "state": {
       "button_style": "primary",
       "description": "Clear",
       "layout": "IPY_MODEL_46300f39ce18456c8232c4db91681bf6",
       "style": "IPY_MODEL_13ca85c68b1a4f6bbe1f0a687f53b914",
       "tooltip": null
      }
     },
     "546871ee001c4315a43588c4e243f07b": {
      "model_module": "@jupyter-widgets/controls",
      "model_module_version": "2.0.0",
      "model_name": "HTMLStyleModel",
      "state": {
       "description_width": "",
       "font_size": null,
       "text_color": null
      }
     },
     "69f8abf4dd994254b127307c5d352bff": {
      "model_module": "@jupyter-widgets/controls",
      "model_module_version": "2.0.0",
      "model_name": "GridBoxModel",
      "state": {
       "children": [
        "IPY_MODEL_509274aa6a2c4d71b45ba4feac0d512b"
       ],
       "layout": "IPY_MODEL_91c90e45354d4ea09209981382ffa57d"
      }
     },
     "70152c08816841d08c95dc9aeeaaa3c4": {
      "model_module": "@jupyter-widgets/controls",
      "model_module_version": "2.0.0",
      "model_name": "HTMLModel",
      "state": {
       "layout": "IPY_MODEL_26f5124b5c4e49ec8f3c23a31b0600b7",
       "style": "IPY_MODEL_c64a36c415a64ae18c334e3655aedfa0",
       "value": "<h5>Job ID</h5>"
      }
     },
     "858d922848dc4d79983ea817542deb76": {
      "model_module": "@jupyter-widgets/controls",
      "model_module_version": "2.0.0",
      "model_name": "HBoxModel",
      "state": {
       "children": [
        "IPY_MODEL_70152c08816841d08c95dc9aeeaaa3c4",
        "IPY_MODEL_8f790fc697dd420ca145a71e3a8d2f8c",
        "IPY_MODEL_4f459d89e271451d9de945a1e4e3f842",
        "IPY_MODEL_bd8103f1a98e401da6b170631da07848",
        "IPY_MODEL_e8fc3e9b02104885a43f5e58f203bc30"
       ],
       "layout": "IPY_MODEL_edd7a054739e4db58829ee00d4b3660f"
      }
     },
     "8d67218bdff340e3a53c2c27ac55f214": {
      "model_module": "@jupyter-widgets/base",
      "model_module_version": "2.0.0",
      "model_name": "LayoutModel",
      "state": {
       "margin": "0px 0px 10px 0px"
      }
     },
     "8f790fc697dd420ca145a71e3a8d2f8c": {
      "model_module": "@jupyter-widgets/controls",
      "model_module_version": "2.0.0",
      "model_name": "HTMLModel",
      "state": {
       "layout": "IPY_MODEL_b49368ea5996448389e02dd329c393b5",
       "style": "IPY_MODEL_2bff40bd84c54b6bb4fc7a065168053e",
       "value": "<h5>Backend</h5>"
      }
     },
     "91c90e45354d4ea09209981382ffa57d": {
      "model_module": "@jupyter-widgets/base",
      "model_module_version": "2.0.0",
      "model_name": "LayoutModel",
      "state": {
       "grid_template_areas": "\n                                       \". . . . right \"\n                                        ",
       "grid_template_columns": "20% 20% 20% 20% 20%",
       "width": "100%"
      }
     },
     "b49368ea5996448389e02dd329c393b5": {
      "model_module": "@jupyter-widgets/base",
      "model_module_version": "2.0.0",
      "model_name": "LayoutModel",
      "state": {
       "width": "145px"
      }
     },
     "bd8103f1a98e401da6b170631da07848": {
      "model_module": "@jupyter-widgets/controls",
      "model_module_version": "2.0.0",
      "model_name": "HTMLModel",
      "state": {
       "layout": "IPY_MODEL_365941a0d5784a4d8766f404d1cabe04",
       "style": "IPY_MODEL_fc02d63bc4c94318a6e08549d8c69228",
       "value": "<h5>Queue</h5>"
      }
     },
     "c09472a5c0634ec79f65a4b5963f0338": {
      "model_module": "@jupyter-widgets/controls",
      "model_module_version": "2.0.0",
      "model_name": "HTMLStyleModel",
      "state": {
       "description_width": "",
       "font_size": null,
       "text_color": null
      }
     },
     "c64a36c415a64ae18c334e3655aedfa0": {
      "model_module": "@jupyter-widgets/controls",
      "model_module_version": "2.0.0",
      "model_name": "HTMLStyleModel",
      "state": {
       "description_width": "",
       "font_size": null,
       "text_color": null
      }
     },
     "c8852430665d47fdaccf40bdbc7be577": {
      "model_module": "@jupyter-widgets/base",
      "model_module_version": "2.0.0",
      "model_name": "LayoutModel",
      "state": {}
     },
     "d335144006354664ab7c1ef7ba64dfee": {
      "model_module": "@jupyter-widgets/controls",
      "model_module_version": "2.0.0",
      "model_name": "HTMLModel",
      "state": {
       "layout": "IPY_MODEL_8d67218bdff340e3a53c2c27ac55f214",
       "style": "IPY_MODEL_546871ee001c4315a43588c4e243f07b",
       "value": "<p style='font-family: IBM Plex Sans, Arial, Helvetica, sans-serif; font-size: 20px; font-weight: medium;'>Circuit Properties</p>"
      }
     },
     "e8fc3e9b02104885a43f5e58f203bc30": {
      "model_module": "@jupyter-widgets/controls",
      "model_module_version": "2.0.0",
      "model_name": "HTMLModel",
      "state": {
       "layout": "IPY_MODEL_c8852430665d47fdaccf40bdbc7be577",
       "style": "IPY_MODEL_3216122a3fc44392be1afa87fc5d54d6",
       "value": "<h5>Message</h5>"
      }
     },
     "edd7a054739e4db58829ee00d4b3660f": {
      "model_module": "@jupyter-widgets/base",
      "model_module_version": "2.0.0",
      "model_name": "LayoutModel",
      "state": {
       "margin": "0px 0px 0px 37px",
       "width": "600px"
      }
     },
     "fc02d63bc4c94318a6e08549d8c69228": {
      "model_module": "@jupyter-widgets/controls",
      "model_module_version": "2.0.0",
      "model_name": "HTMLStyleModel",
      "state": {
       "description_width": "",
       "font_size": null,
       "text_color": null
      }
     }
    },
    "version_major": 2,
    "version_minor": 0
   }
  }
 },
 "nbformat": 4,
 "nbformat_minor": 5
}
